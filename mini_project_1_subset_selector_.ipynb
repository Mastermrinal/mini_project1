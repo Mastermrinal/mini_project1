{
  "nbformat": 4,
  "nbformat_minor": 0,
  "metadata": {
    "colab": {
      "provenance": [],
      "authorship_tag": "ABX9TyPvkstqk6zj08zg5cPM66Go",
      "include_colab_link": true
    },
    "kernelspec": {
      "name": "python3",
      "display_name": "Python 3"
    },
    "language_info": {
      "name": "python"
    }
  },
  "cells": [
    {
      "cell_type": "markdown",
      "metadata": {
        "id": "view-in-github",
        "colab_type": "text"
      },
      "source": [
        "<a href=\"https://colab.research.google.com/github/Mastermrinal/mini_project1/blob/main/mini_project_1_subset_selector_.ipynb\" target=\"_parent\"><img src=\"https://colab.research.google.com/assets/colab-badge.svg\" alt=\"Open In Colab\"/></a>"
      ]
    },
    {
      "cell_type": "code",
      "source": [],
      "metadata": {
        "id": "qTFUyRpuMUsn"
      },
      "execution_count": null,
      "outputs": []
    },
    {
      "cell_type": "markdown",
      "source": [
        "problem statement1 solution\n"
      ],
      "metadata": {
        "id": "D_tRCeSyQKbN"
      }
    },
    {
      "cell_type": "code",
      "execution_count": 7,
      "metadata": {
        "colab": {
          "base_uri": "https://localhost:8080/"
        },
        "id": "6kc8XG1RMJ_E",
        "outputId": "b1311b50-73a9-4ae5-b819-3b9898a5b787"
      },
      "outputs": [
        {
          "output_type": "stream",
          "name": "stdout",
          "text": [
            "(9, -3, -9, -8, 11)\n",
            "(-8, 6, 7, -6, 1)\n",
            "(11, -5, -9, -6, 9)\n",
            "(1, -6, -9, 3, 11)\n",
            "(6, -9, 7, 3, -7)\n",
            "(2, 7, -4, -8, 3)\n",
            "(-9, 7, -5, 11, -4)\n",
            "(7, -7, -5, 2, 3)\n",
            "(-12, 2, 7, -8, 11)\n",
            "(11, -5, -12, -3, 9)\n",
            "(-8, 1, 7, 6, -6)\n",
            "(3, 9, 2, -2, -12)\n",
            "(1, -12, 6, 2, 3)\n",
            "(11, -6, -2, 1, -4)\n",
            "(6, -2, 3, -4, -3)\n",
            "(3, 6, -7, 2, -4)\n",
            "(6, 1, -7, 9, -9)\n",
            "(3, 11, -5, -3, -6)\n",
            "(-12, 3, 11, -3, 1)\n",
            "(9, -6, 11, -9, -5)\n",
            "(-7, -6, 11, -5, 7)\n",
            "(9, 3, -2, -7, -3)\n",
            "(-3, 6, 2, -8, 3)\n",
            "(3, 9, -9, -4, 1)\n",
            "(-4, 9, -9, 11, -7)\n",
            "(7, 1, 2, -8, -2)\n",
            "(6, 2, -3, 7, -12)\n",
            "(-2, 2, 7, 1, -8)\n",
            "(1, 7, -12, -7, 11)\n",
            "(-6, -5, 9, -9, 11)\n",
            "\n",
            "Total Sets:  30\n"
          ]
        },
        {
          "output_type": "stream",
          "name": "stderr",
          "text": [
            "<ipython-input-7-c0e87ad438e5>:20: DeprecationWarning: Sampling from a set deprecated\n",
            "since Python 3.9 and will be removed in a subsequent version.\n",
            "  Chromosome = r.sample(Set,SetSize)\n"
          ]
        }
      ],
      "source": [
        "import random as r\n",
        "\n",
        "\n",
        "#-------------------------------------------------------------\n",
        "# Step 2: Parameter Setting\n",
        "#-------------------------------------------------------------\n",
        "Set         = set([-12, -3, -6, 7, 2, -2, 6, 3, 9, -7, -5, -8, 1, 11, -9, -4])\n",
        "SetSize     = 5\n",
        "ResultList5  = set()    # Store Result List i.e. list of sets whose sum is zero\n",
        "Iterations  = 1000   # Number of Inerations\n",
        "\n",
        "\n",
        "#-------------------------------------------------------------\n",
        "# Step3: Start Program\n",
        "#-------------------------------------------------------------\n",
        "\n",
        "# Loop till number of Iterations\n",
        "for i in range(Iterations):\n",
        "    # Select number of elements from Set\n",
        "    Chromosome = r.sample(Set,SetSize)\n",
        "\n",
        "    # Sum the number of elements in the Chromosome\n",
        "    if sum(Chromosome) == 0:\n",
        "        ResultList5.add(tuple(Chromosome))\n",
        "\n",
        "# Print all the sets whose sum is zero\n",
        "for r in ResultList5:\n",
        "\tprint (r)\n",
        "\n",
        "# Print total sets\n",
        "print (\"\\nTotal Sets: \", len(ResultList5))"
      ]
    },
    {
      "cell_type": "markdown",
      "source": [
        "problem statement2 solution "
      ],
      "metadata": {
        "id": "N59vNe8MQXxX"
      }
    },
    {
      "cell_type": "code",
      "source": [
        "import random as r\n",
        "\n",
        "\n",
        "#-------------------------------------------------------------\n",
        "# Step 2: Parameter Setting\n",
        "#-------------------------------------------------------------\n",
        "Set         = set([-12, -3, -6, 7, 2, -2, 6, 3, 9, -7, -5, -8, 1, 11, -9, -4])\n",
        "ResultList3 = set()    # Store Result List i.e. list of sets whose sum is zero\n",
        "Iterations  = 1000   # Number of Inerations\n",
        "\n",
        "\n",
        "#-------------------------------------------------------------\n",
        "# Step3: Start Program\n",
        "#-------------------------------------------------------------\n",
        "\n",
        "# Loop till number of Iterations\n",
        "for i in range(Iterations):\n",
        "    # Select number of elements from Set\n",
        "    Chromosome = r.sample(Set,3)\n",
        "\n",
        "    # Sum the number of elements in the Chromosome\n",
        "    if sum(Chromosome) == 0:\n",
        "        ResultList3.add(tuple(Chromosome))\n",
        "\n",
        "# Print all the sets whose sum is zero\n",
        "for r in ResultList3:\n",
        "\tprint (r)\n",
        "\n",
        "# Print total sets\n",
        "print (\"\\nTotal Sets: \", len(ResultList3))"
      ],
      "metadata": {
        "colab": {
          "base_uri": "https://localhost:8080/"
        },
        "id": "2JmZWkJrMZa-",
        "outputId": "c3eb7967-e1b4-439b-f23f-42d8f3bbf2c2"
      },
      "execution_count": 8,
      "outputs": [
        {
          "output_type": "stream",
          "name": "stdout",
          "text": [
            "(1, 7, -8)\n",
            "(-2, -7, 9)\n",
            "(-9, 2, 7)\n",
            "(3, 1, -4)\n",
            "(3, 2, -5)\n",
            "(-5, -6, 11)\n",
            "(11, -5, -6)\n",
            "(11, -6, -5)\n",
            "(9, -4, -5)\n",
            "(-5, 9, -4)\n",
            "(-2, 6, -4)\n",
            "(-4, 1, 3)\n",
            "(6, -2, -4)\n",
            "(1, -12, 11)\n",
            "(3, 6, -9)\n",
            "(6, -4, -2)\n",
            "(9, -6, -3)\n",
            "(1, 2, -3)\n",
            "(6, 2, -8)\n",
            "(-2, -5, 7)\n",
            "(7, -4, -3)\n",
            "(7, -3, -4)\n",
            "(-9, 3, 6)\n",
            "(-7, 9, -2)\n",
            "(-8, -3, 11)\n",
            "(3, -5, 2)\n",
            "(-4, 3, 1)\n",
            "(-5, -4, 9)\n",
            "(-3, 2, 1)\n",
            "\n",
            "Total Sets:  29\n"
          ]
        },
        {
          "output_type": "stream",
          "name": "stderr",
          "text": [
            "<ipython-input-8-cc2074dc66e5>:19: DeprecationWarning: Sampling from a set deprecated\n",
            "since Python 3.9 and will be removed in a subsequent version.\n",
            "  Chromosome = r.sample(Set,3)\n"
          ]
        }
      ]
    },
    {
      "cell_type": "code",
      "source": [
        "import random as r\n",
        "\n",
        "\n",
        "#-------------------------------------------------------------\n",
        "# Step 2: Parameter Setting\n",
        "#-------------------------------------------------------------\n",
        "Set         = set([-12, -3, -6, 7, 2, -2, 6, 3, 9, -7, -5, -8, 1, 11, -9, -4])\n",
        "ResultList4  = set()    # Store Result List i.e. list of sets whose sum is zero\n",
        "Iterations  = 1000   # Number of Inerations\n",
        "\n",
        "\n",
        "#-------------------------------------------------------------\n",
        "# Step3: Start Program\n",
        "#-------------------------------------------------------------\n",
        "\n",
        "# Loop till number of Iterations\n",
        "for i in range(Iterations):\n",
        "    # Select number of elements from Set\n",
        "    Chromosome = r.sample(Set,4)\n",
        "\n",
        "    # Sum the number of elements in the Chromosome\n",
        "    if sum(Chromosome) == 0:\n",
        "        ResultList4.add(tuple(Chromosome))\n",
        "\n",
        "# Print all the sets whose sum is zero\n",
        "for r in ResultList4:\n",
        "\tprint (r)\n",
        "\n",
        "# Print total sets\n",
        "print (\"\\nTotal Sets: \", len(ResultList4))"
      ],
      "metadata": {
        "colab": {
          "base_uri": "https://localhost:8080/"
        },
        "id": "7ymvantmMzLk",
        "outputId": "cd675668-78a6-4e9c-f4f1-d1c113083e14"
      },
      "execution_count": 9,
      "outputs": [
        {
          "output_type": "stream",
          "name": "stdout",
          "text": [
            "(-4, -5, -2, 11)\n",
            "(-8, -12, 11, 9)\n",
            "(-8, 11, -4, 1)\n",
            "(-6, 6, 3, -3)\n",
            "(6, -5, -12, 11)\n",
            "(-7, 7, 3, -3)\n",
            "(-12, 11, -5, 6)\n",
            "(-9, 11, -5, 3)\n",
            "(-3, 3, -7, 7)\n",
            "(1, 9, -4, -6)\n",
            "(-12, 1, 9, 2)\n",
            "(-5, -9, 3, 11)\n",
            "(-12, 9, 11, -8)\n",
            "(-6, 1, 3, 2)\n",
            "(-9, -3, 9, 3)\n",
            "(9, -4, 3, -8)\n",
            "(-4, 7, -5, 2)\n",
            "(-4, -6, 9, 1)\n",
            "(-7, 11, 1, -5)\n",
            "(-7, 9, 6, -8)\n",
            "(-4, 2, 9, -7)\n",
            "(-2, -7, 6, 3)\n",
            "(1, -7, 9, -3)\n",
            "(2, 3, -2, -3)\n",
            "(-2, 7, -8, 3)\n",
            "(6, -2, 2, -6)\n",
            "(9, -2, -3, -4)\n",
            "(-4, 9, -12, 7)\n",
            "(-3, 6, 3, -6)\n",
            "(3, -2, 2, -3)\n",
            "(-5, 2, 6, -3)\n",
            "(11, 2, -9, -4)\n",
            "(-12, 11, -2, 3)\n",
            "(-3, -2, 11, -6)\n",
            "(7, 6, -9, -4)\n",
            "(11, -12, -2, 3)\n",
            "\n",
            "Total Sets:  36\n"
          ]
        },
        {
          "output_type": "stream",
          "name": "stderr",
          "text": [
            "<ipython-input-9-f211f7975dec>:19: DeprecationWarning: Sampling from a set deprecated\n",
            "since Python 3.9 and will be removed in a subsequent version.\n",
            "  Chromosome = r.sample(Set,4)\n"
          ]
        }
      ]
    },
    {
      "cell_type": "code",
      "source": [
        "import random as r\n",
        "\n",
        "\n",
        "#-------------------------------------------------------------\n",
        "# Step 2: Parameter Setting\n",
        "#-------------------------------------------------------------\n",
        "Set         = set([-12, -3, -6, 7, 2, -2, 6, 3, 9, -7, -5, -8, 1, 11, -9, -4])\n",
        "ResultList6  = set()    # Store Result List i.e. list of sets whose sum is zero\n",
        "Iterations  = 1000   # Number of Inerations\n",
        "\n",
        "\n",
        "#-------------------------------------------------------------\n",
        "# Step3: Start Program\n",
        "#-------------------------------------------------------------\n",
        "\n",
        "# Loop till number of Iterations\n",
        "for i in range(Iterations):\n",
        "    # Select number of elements from Set\n",
        "    Chromosome = r.sample(Set,6)\n",
        "\n",
        "    # Sum the number of elements in the Chromosome\n",
        "    if sum(Chromosome) == 0:\n",
        "        ResultList6.add(tuple(Chromosome))\n",
        "\n",
        "# Print all the sets whose sum is zero\n",
        "for r in ResultList6:\n",
        "\tprint (r)\n",
        "\n",
        "# Print total sets\n",
        "print (\"\\nTotal Sets: \", len(ResultList6))"
      ],
      "metadata": {
        "colab": {
          "base_uri": "https://localhost:8080/"
        },
        "id": "X_pe_IqHM-Nc",
        "outputId": "01878852-d2db-4400-d702-d86b8fb28f48"
      },
      "execution_count": 10,
      "outputs": [
        {
          "output_type": "stream",
          "name": "stdout",
          "text": [
            "(6, 1, -2, 2, -3, -4)\n",
            "(1, 9, -6, -3, -12, 11)\n",
            "(1, -2, 9, 3, -6, -5)\n",
            "(-9, 11, -5, -7, 1, 9)\n",
            "(1, 3, 11, -3, -7, -5)\n",
            "(9, 11, -7, 3, -12, -4)\n",
            "(-2, 9, 11, 2, -12, -8)\n",
            "(-12, 3, 9, -6, -5, 11)\n",
            "(-5, -3, 6, 1, 3, -2)\n",
            "(-5, -4, 7, 2, -9, 9)\n",
            "(2, 3, -7, -5, -2, 9)\n",
            "(-7, -2, 9, 11, -5, -6)\n",
            "(6, -3, -9, 7, 1, -2)\n",
            "(11, -9, -8, 2, 1, 3)\n",
            "(1, -6, 6, -5, 11, -7)\n",
            "(-2, -12, 2, 7, 11, -6)\n",
            "(-4, -2, 11, -5, -7, 7)\n",
            "(-6, 6, 9, 3, -8, -4)\n",
            "(9, -8, -5, 7, -6, 3)\n",
            "(7, 9, -5, 2, -6, -7)\n",
            "(-2, -8, 3, -9, 9, 7)\n",
            "(-9, 1, -8, 3, 7, 6)\n",
            "(-4, -2, 2, -8, 1, 11)\n",
            "(2, -7, -3, -4, 1, 11)\n",
            "(2, -5, 6, -2, -8, 7)\n",
            "(9, -4, 7, -7, -6, 1)\n",
            "(-6, 6, 7, -8, 3, -2)\n",
            "\n",
            "Total Sets:  27\n"
          ]
        },
        {
          "output_type": "stream",
          "name": "stderr",
          "text": [
            "<ipython-input-10-2a401d01ad99>:19: DeprecationWarning: Sampling from a set deprecated\n",
            "since Python 3.9 and will be removed in a subsequent version.\n",
            "  Chromosome = r.sample(Set,6)\n"
          ]
        }
      ]
    },
    {
      "cell_type": "code",
      "source": [
        "fp=open('final_results','w')\n",
        "fp.write(str(ResultList3))\n",
        "fp.write(str(ResultList4))\n",
        "fp.write(str(ResultList5))\n",
        "fp.write(str(ResultList6))\n",
        "fp.close()\n",
        "print (\"Writing done !! \\nOpen final_results.txt to view the content\")"
      ],
      "metadata": {
        "colab": {
          "base_uri": "https://localhost:8080/"
        },
        "id": "YvDnfL-gNCRA",
        "outputId": "e0207a82-96cb-4561-9ea1-05424d96cf6c"
      },
      "execution_count": 17,
      "outputs": [
        {
          "output_type": "stream",
          "name": "stdout",
          "text": [
            "Writing done !! \n",
            "Open final_results.txt to view the content\n"
          ]
        }
      ]
    },
    {
      "cell_type": "code",
      "source": [],
      "metadata": {
        "id": "sCmPN3wyN_6y"
      },
      "execution_count": null,
      "outputs": []
    }
  ]
}